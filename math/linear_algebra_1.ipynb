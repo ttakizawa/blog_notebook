{
 "cells": [
  {
   "cell_type": "markdown",
   "metadata": {},
   "source": [
    "## 線形代数を学ぶモチベーション\n",
    "統計学や機械学習を学ぶに当たって、線形代数を学ぶことによるメリットは以下の2点になります。\n",
    "1. 表記を簡単にできる\n",
    "    線形代数を用いることで、計算過程や計算結果を行列どうしの計算として、見やすく分かりやすく提示することができます。\n",
    "2. 高次元に対応できる\n",
    "    機械学習などでは特徴量の数が１００を超えるような高次元のデータを扱います。変数の次元が高くなった場合でも、行列を用いれば簡潔に表現することができます。\n",
    "\n",
    "現在では、Pythonのnumpyライブラリなどを使って、高次元の行列計算のプログラムを簡単に書くことができます。実際にデータを分析するにあたり、統計や機械学習のアルゴリズムを行列計算のプログラムに落とし込むためには、線形代数の知識は必須のものとなります。"
   ]
  },
  {
   "cell_type": "markdown",
   "metadata": {},
   "source": [
    "## ベクトル空間と部分空間\n",
    "### ベクトル空間とは\n",
    "線形代数学はベクトル空間と呼ばれる特別な集合の上に描かれます。\n",
    "ベクトル空間の定義は以下になります。\n",
    "#### ベクトル空間の定義\n",
    " 任意の元$x,y \\in L$ 任意の実数$a,b$について実数倍$ax,by$と、それらの和$ax+by$が定義されており、必ず $ax+by \\in L$ が成り立つような集合$L$を、ベクトル空間(vector space)という。また、$L$ の元をベクトル(vector)という。"
   ]
  },
  {
   "cell_type": "markdown",
   "metadata": {},
   "source": [
    "#### 直積集合\n",
    "$k$個の実数集合$R$の直積を$R^k$とします。これは、$k$個の実数を組にした$(x_1,\\ldots,x_k)$を元とする集合が$R^k$です。任意の実数$a$について、$(x_1,\\ldots,x_k)$の$a$倍を\n",
    "$$\n",
    "(x_1,\\ldots,x_k) = (ax_1,\\ldots,ax_k)\n",
    "$$\n",
    "によって定義します。また、$(x_1,\\ldots,x_k)$と$(y_1,\\ldots,y_k)$の和を\n",
    "$$\n",
    "(x_1,\\ldots,x_k)+(y_1,\\ldots,y_k) = (x_1+y_1,\\ldots,x_k+y_k)\n",
    "$$\n",
    "とします。このとき、\n",
    "$$\n",
    "a(x_1,\\ldots,x_k)+b(y_1,\\ldots,y_k) = (ax_1+by_1,\\ldots,ax_k+by_k) \\in R^k\n",
    "$$\n",
    "が必ず成立するので、$R^k$もまたベクトル空間になります。"
   ]
  },
  {
   "cell_type": "markdown",
   "metadata": {},
   "source": [
    "#### 列ベクトルと行ベクトル\n",
    "$k$個の実数を縦に並べて表したものを、\n",
    "\n",
    "$$\n",
    "\\begin{eqnarray}\n",
    "x=\\left[\n",
    "\\begin{array}{c}\n",
    "x_1 \\\\\n",
    "\\vdots \\\\\n",
    "x_k \\\\\n",
    "\\end{array}\n",
    "\\right]\n",
    "\\end{eqnarray}\n",
    "$$\n",
    "列ベクトル(column vector)表記という。これに対して、\n",
    "\n",
    "$$\n",
    "\\begin{eqnarray}\n",
    "x=\\left[\n",
    "\\begin{array}{ccc}\n",
    "x_1&\\ldots &x_k\n",
    "\\end{array}\n",
    "\\right]\n",
    "\\end{eqnarray}\n",
    "$$\n",
    "のように横１列に並べた表記法は行ベクトル(row vector)表記という。"
   ]
  },
  {
   "cell_type": "markdown",
   "metadata": {},
   "source": [
    "#### ベクトルの演算\n",
    "$R^k$に属するベクトルと実数の間では、以下のような計算が可能であるとします。正確には、いかに定める演算の元で、$R^k$はベクトル空間になります。\n",
    "\n",
    "- ベクトルの和・差\n",
    "    ベクトル$x,y$の和$x+y$と差$x-y$を、\n",
    "$$\n",
    "\\left[\\begin{array}{c}\n",
    "x_1 \\\\\n",
    "\\vdots \\\\\n",
    "x_k \\\\\n",
    "\\end{array}\\right]\n",
    "+\n",
    "\\left[\\begin{array}{c}\n",
    "y_1 \\\\\n",
    "\\vdots \\\\\n",
    "y_k \\\\\n",
    "\\end{array}\\right]\n",
    "=\n",
    "\\left[\\begin{array}{c}\n",
    "x_1+y_1 \\\\\n",
    "\\vdots \\\\\n",
    "x_k+y_k \\\\\n",
    "\\end{array}\\right]\n",
    ",\n",
    "\\left[\\begin{array}{c}\n",
    "x_1 \\\\\n",
    "\\vdots \\\\\n",
    "x_k \\\\\n",
    "\\end{array}\\right]\n",
    "-\n",
    "\\left[\\begin{array}{c}\n",
    "y_1 \\\\\n",
    "\\vdots \\\\\n",
    "y_k \\\\\n",
    "\\end{array}\\right]\n",
    "=\n",
    "\\left[\\begin{array}{c}\n",
    "x_1-y_1 \\\\\n",
    "\\vdots \\\\\n",
    "x_k-y_k \\\\\n",
    "\\end{array}\\right]\n",
    "$$\n",
    "によって定義する。\n",
    "- ベクトルの実数倍\n",
    "    ベクトル$x$と実数$c$について、$x$の$c$倍$cx$を\n",
    "$$\n",
    "c\\left[\\begin{array}{c}\n",
    "x_1 \\\\\n",
    "\\vdots \\\\\n",
    "x_k \\\\\n",
    "\\end{array}\\right]\n",
    "=\n",
    "\\left[\\begin{array}{c}\n",
    "cx_1 \\\\\n",
    "\\vdots \\\\\n",
    "cx_k \\\\\n",
    "\\end{array}\\right]\n",
    "$$\n",
    "によって定義する。\n",
    "\n",
    "以下に、Pythonのnumpyを使ったベクトル演算のサンプルを示します。"
   ]
  },
  {
   "cell_type": "code",
   "execution_count": 1,
   "metadata": {},
   "outputs": [],
   "source": [
    "import numpy as np"
   ]
  },
  {
   "cell_type": "code",
   "execution_count": 5,
   "metadata": {},
   "outputs": [
    {
     "name": "stdout",
     "output_type": "stream",
     "text": [
      "[[4]\n",
      " [6]]\n"
     ]
    }
   ],
   "source": [
    "# numpyでのベクトル演算のサンプル\n",
    "x = np.array([[1], [2]])\n",
    "y = np.array([[3], [4]])\n",
    "# ベクトルの和\n",
    "print(x + y)"
   ]
  },
  {
   "cell_type": "code",
   "execution_count": 6,
   "metadata": {},
   "outputs": [
    {
     "name": "stdout",
     "output_type": "stream",
     "text": [
      "[[3]\n",
      " [6]]\n"
     ]
    }
   ],
   "source": [
    "# ベクトルの定数倍\n",
    "c = 3\n",
    "print(c * x)"
   ]
  },
  {
   "cell_type": "markdown",
   "metadata": {},
   "source": [
    "#### スパン\n",
    "ベクトル空間$L$から選ばれたいくつかのベクトル$x_1,\\ldots,x_n$を用いて作られる部分集合をスパンと言います。\n",
    "定義は以下の通りです。\n",
    "\n",
    "定義\n",
    "\n",
    "ベクトル$x_1,\\ldots,x_n(\\in L)$の線形結合$a_1x_1+\\cdots+a_nx_n$の集合、\n",
    "$$\n",
    "\\{ a_1x_1+\\cdots+a_nx_n | a_1,\\ldots,a_n \\in R \\}\n",
    "$$\n",
    "を$x_1,\\ldots,x_n$のスパン（span）、または$x_1,\\ldots,x_n$が張る空間といい、\n",
    "$$\n",
    "Span\\{ x_1,\\ldots,x_n \\}\n",
    "$$\n",
    "と書く。\n",
    "\n",
    "#### 部分空間\n",
    "部分空間の定義は以下のようになります。\n",
    "\n",
    "定義\n",
    "\n",
    "ベクトル空間$L$の部分集合$M$がベクトル空間の性質をもつとき、すなわち任意の$x,y \\in M$と任意の実数$a,b$について、\n",
    "$ax+by \\in M$が成り立つとき、$M$は$L$の部分空間（subspace）であるという。"
   ]
  },
  {
   "cell_type": "markdown",
   "metadata": {},
   "source": [
    "## 基底と次元\n",
    "### 線形従属と線形独立\n",
    "#### 線形従属\n",
    "ベクトル$x_1,\\ldots,x_n$のあいだに、\n",
    "$$\n",
    "x_n = a_1x_1+\\cdots+a_{n-1}x_{n-1}\n",
    "$$\n",
    "の関係がある場合、$x_n$は、その他の$x_1,\\ldots,x_{n-1}$の組み合わせとして表現されます。\n",
    "このとき、$x_1,\\ldots,x_{n}$は線形従属（linearly dependent）と言います。より一般的な定義は以下の通りです。\n",
    "\n",
    "定義\n",
    "\n",
    "$x_1,\\ldots,x_n \\in L$が線形従属（linearly dependent）であるとは、全てが０でない係数$a_1,\\ldots,a_n$を用いて、\n",
    "$$\n",
    "a_1x_1+\\cdots+a_nx_n=0\n",
    "$$\n",
    "とできることをいう。\n",
    "\n",
    "#### 線形独立\n",
    "また、線形独立の定義は以下のようになります。\n",
    "\n",
    "定義\n",
    "\n",
    "$x_1,\\ldots,x_n \\in L$が線形独立（linearly independent）であるとは、$a_1=\\cdots=a_n=0$であるとき、またその時にのみ\n",
    "$a_1x_1+\\cdots+a_nx_n=0$が成り立つことをいう。"
   ]
  },
  {
   "cell_type": "markdown",
   "metadata": {},
   "source": [
    "### 次元と基底\n",
    "\n",
    "定義\n",
    "\n",
    "$L$をベクトル空間とする。線形独立な$x_1,\\ldots,x_n \\in L$を用いて\n",
    "$$\n",
    "L = Span(x_1,\\ldots,x_n)\n",
    "$$\n",
    "と書けるとき、「$L$の次元（dimension）は$n$である」、あるいは「$L$は$n$次元ベクトル空間である」と言い、$dimL=n$と書く。\n",
    "またこのとき、ベクトル$x_1,\\ldots,x_n$を$L$の基底（base）という。"
   ]
  },
  {
   "cell_type": "code",
   "execution_count": null,
   "metadata": {},
   "outputs": [],
   "source": []
  }
 ],
 "metadata": {
  "kernelspec": {
   "display_name": "Python 3",
   "language": "python",
   "name": "python3"
  },
  "language_info": {
   "codemirror_mode": {
    "name": "ipython",
    "version": 3
   },
   "file_extension": ".py",
   "mimetype": "text/x-python",
   "name": "python",
   "nbconvert_exporter": "python",
   "pygments_lexer": "ipython3",
   "version": "3.7.3"
  }
 },
 "nbformat": 4,
 "nbformat_minor": 2
}
